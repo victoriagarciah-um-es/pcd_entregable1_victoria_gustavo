{
 "cells": [
  {
   "cell_type": "code",
   "execution_count": 2,
   "metadata": {},
   "outputs": [],
   "source": [
    "from enum import Enum"
   ]
  },
  {
   "cell_type": "code",
   "execution_count": 3,
   "metadata": {},
   "outputs": [],
   "source": [
    "class Departamento(Enum):\n",
    "    DIIC = 1\n",
    "    DITEC = 2\n",
    "    DIS = 3\n",
    "\n",
    "class Sexo(Enum):\n",
    "    MASCULINO = 1\n",
    "    FEMENINO = 2\n",
    "\n",
    "class Universidad():\n",
    "    def __init__(self, nombre):\n",
    "        self.nombre = nombre\n",
    "        self._estudiantes = []\n",
    "        self._asociados = []\n",
    "        self._titulares = []\n",
    "        self._investigadores = []\n",
    "### DAR DE ALTA PERSONAS\n",
    "    def añadir_estudiante(self, nombre, DNI, direccion, sexo):\n",
    "        for e in self._estudiantes:\n",
    "            if e.DNI == DNI:\n",
    "                print('Este alumno ya esta dado de alta.')\n",
    "                return\n",
    "\n",
    "        self._estudiantes.append(Estudiante(nombre, DNI, direccion, sexo))\n",
    "    \n",
    "    def añadir_profesor_asociado(self, nombre, DNI, direccion, sexo, departamento):\n",
    "        for a in self._asociados:\n",
    "            if a.DNI == DNI:\n",
    "                print('Este profesor ya esta dado de alta.')\n",
    "                return\n",
    "        self._asociados.append(Profesor_asociado(nombre, DNI, direccion, sexo, departamento))\n",
    "\n",
    "    def añadir_profesor_titular(self, nombre, DNI, direccion, sexo, departamento, area_investigacion):\n",
    "        for t in self._titulares:\n",
    "            if t.DNI == DNI:\n",
    "                print('Este profesor ya esta dado de alta.')\n",
    "                return\n",
    "        self._titulares.append(Profesor_titular(nombre, DNI, direccion, sexo, departamento, area_investigacion))  \n",
    "        self._investigadores.append(Investigador(nombre, DNI, direccion, sexo, departamento, area_investigacion))\n",
    "\n",
    "    def añadir_investigador(self, nombre, DNI, direccion, sexo, departamento, area_investigacion):\n",
    "        for i in self._investigadores:\n",
    "            if i.DNI == DNI:\n",
    "                print('Este investigador ya esta dado de alta.')\n",
    "                return\n",
    "        self._investigadores.append(Investigador(nombre, DNI, direccion, sexo, departamento, area_investigacion))\n",
    "### ELIMINAR PERSONAS\n",
    "    def eliminar_estudiante(self, DNI):\n",
    "        for i in range(len(self._estudiantes)):\n",
    "            if self._estudiantes[i].DNI == DNI:\n",
    "                self._estudiantes.pop(i)\n",
    "                print('El estudiante ha sido borrado.')\n",
    "                return\n",
    "        print('El DNI no corresponde con ningún estudiante matriculado.')\n",
    "\n",
    "    def eliminar_asociado(self, DNI):\n",
    "        for i in range(len(self._asociados)):\n",
    "            if self._asociados[i].DNI == DNI:\n",
    "                self._asociados.pop(i)\n",
    "                print('El profesor asociado ha sido eliminado.')\n",
    "                return\n",
    "        print('El DNI no corresponde con ningún profesor asociado.')\n",
    "    def eliminar_titular(self, DNI):\n",
    "        for i in range(len(self._titulares)):\n",
    "            if self._titulares[i].DNI == DNI:\n",
    "                self._titulares.pop(i)\n",
    "                print('El profesor titular ha sido eliminado.')\n",
    "                return\n",
    "        print('El DNI no corresponde con ningún profesor titular.')     \n",
    "\n",
    "    def eliminar_investigador(self, DNI):\n",
    "        for i in self._investigadores:\n",
    "            if i.DNI == DNI:\n",
    "                self._investigadores.remove(i)\n",
    "                for t in self._titulares:\n",
    "                    if t.DNI == DNI:\n",
    "                        self._titulares.remove(t)\n",
    "                        print('El investigador ha sido eliminado tanto como investigador como profesor titular.')\n",
    "                        return\n",
    "                print('El investigador ha sido eliminado.')\n",
    "                return\n",
    "        print('El DNI no corresponde con ningún investigador.')\n",
    "### LISTAR PERSONAS\n",
    "    def listar_estudiantes(self):\n",
    "        print('LISTADO ESTUDIANTES')\n",
    "        for e in self._estudiantes:\n",
    "            print('\\t', e.devolver_datos())\n",
    "\n",
    "    def listar_asociados(self):\n",
    "        print('LISTADO ASOCIADOS')\n",
    "        for a in self._asociados:\n",
    "            print('\\t', a.devolver_datos())\n",
    "\n",
    "    def listar_titulares(self):\n",
    "        print('LISTADO TITULARES')\n",
    "        for t in self._titulares:\n",
    "            print('\\t', t.devolver_datos())\n",
    "\n",
    "    def listar_investigadores(self):\n",
    "        print('LISTADO INVESTIGADORES')\n",
    "        for i in self._investigadores:\n",
    "            print('\\t', i.devolver_datos())\n",
    "### ASIGNATURAS MATRICULADAS\n",
    "    def añadir_asignatura_matriculada(self, estudiante, asignatura):\n",
    "        for e in self._estudiantes:\n",
    "            if e.DNI == estudiante:\n",
    "                e.añadir_asignatura(asignatura)\n",
    "                return\n",
    "        print('Este DNI no corresponde a ningun estudiante.')\n",
    "\n",
    "    def eliminar_asignatura_matriculada(self, estudiante, asignatura):\n",
    "        for e in self._estudiantes:\n",
    "            if e.DNI == estudiante:\n",
    "                e.eliminar_asignatura(asignatura)\n",
    "                return\n",
    "        print('Este DNI no corresponde a ningun estudiante.')\n",
    "    \n",
    "    def listar_asignaturas_matriculadas(self, estudiante):\n",
    "        for e in self._estudiantes:\n",
    "            if e.DNI == estudiante:\n",
    "                e.listar_asignaturas()\n",
    "                return\n",
    "        print('Este DNI no corresponde a ningun estudiante.') \n",
    "### ASIGNATURAS IMPARTIDAS\n",
    "    def añadir_asignatura_impartida(self, profesor, asignatura):\n",
    "        for a in self._asociados:\n",
    "            if a.DNI == profesor:\n",
    "                a.añadir_asignatura(asignatura)\n",
    "                return\n",
    "        for t in self._titulares:\n",
    "            if t.DNI == profesor:\n",
    "                t.añadir_asignatura(asignatura)\n",
    "                return\n",
    "        print('Este DNI no corresponde a ningun profesor.')\n",
    "\n",
    "    def eliminar_asignatura_impartida(self, profesor, asignatura):\n",
    "        for a in self._asociados:\n",
    "            if a.DNI == profesor:\n",
    "                a.eliminar_asignatura(asignatura)\n",
    "                return\n",
    "        for t in self._titulares:\n",
    "            if t.DNI == profesor:\n",
    "                t.eliminar_asignatura(asignatura)\n",
    "                return\n",
    "        print('Este DNI no corresponde a ningun profesor.')\n",
    "\n",
    "    def listar_asignaturas_impartidas(self, profesor):\n",
    "        for a in self._asociados:\n",
    "            if a.DNI == profesor:\n",
    "                a.listar_asignaturas()\n",
    "                return\n",
    "        for t in self._titulares:\n",
    "            if t.DNI == profesor:\n",
    "                t.listar_asignaturas()\n",
    "                return\n",
    "        print('Este DNI no corresponde a ningun profesor.')      \n",
    "### DEPARTAMENTO\n",
    "    def cambiar_dpt(self, DNI, dpt_nuevo):\n",
    "        for a in self._asociados:\n",
    "            if a.DNI == DNI:\n",
    "                if a.departamento == dpt_nuevo:\n",
    "                    print('Esta persona ya pertenece a este departamento.')\n",
    "                    return\n",
    "                a.cambiar_dpt(dpt_nuevo)\n",
    "                print('El departamento ha sido cambiado.')\n",
    "                return\n",
    "        for i in self._investigadores:\n",
    "            if i.DNI == DNI:\n",
    "                if i.departamento == dpt_nuevo:\n",
    "                    print('Esta persona ya pertenece a este departamento.')\n",
    "                    return\n",
    "                i.cambiar_dpt(dpt_nuevo)\n",
    "                print('El departamento ha sido cambiado.')\n",
    "                return\n",
    "        print('Esta persona no esta dada de alta en la universidad.')\n",
    "\n",
    "class Persona():\n",
    "    def __init__(self, nombre, DNI, direccion, sexo: Sexo):\n",
    "        if not nombre.isalpha():\n",
    "            raise ValueError('El nombre solo puede contener letras\"')\n",
    "        self.nombre = nombre\n",
    "        if len(DNI) != 9:\n",
    "            raise ValueError(\"El DNI debe tener 9 caracteres\")\n",
    "        self.DNI = DNI\n",
    "        self.direccion = direccion\n",
    "        if not isinstance(sexo, Sexo):\n",
    "            raise ValueError('El sexo debe de ser una instancia de la enumeración Sexo.')\n",
    "        self.sexo = sexo.value\n",
    "\n",
    "class Miembro_dpt(Persona):\n",
    "    def __init__(self, nombre, DNI, direccion, sexo, departamento: Departamento):\n",
    "        super().__init__(nombre, DNI, direccion, sexo)\n",
    "        if not isinstance(departamento, Departamento):\n",
    "            raise ValueError('El departamento debe ser una instancia de la enumeracion Departamento.')\n",
    "        self.departamento = departamento\n",
    "\n",
    "    def cambiar_dpt(self, dpt_nuevo):\n",
    "        self.departamento = dpt_nuevo\n",
    "\n",
    "class Estudiante(Persona):\n",
    "    def __init__(self, nombre, DNI, direccion, sexo):\n",
    "        super().__init__(nombre, DNI, direccion, sexo)\n",
    "        self._asignaturas_matriculadas = []\n",
    "\n",
    "    def devolver_datos(self):\n",
    "        return (f'Nombre: {self.nombre} DNI: {self.DNI} Dirección: {self.direccion} Sexo: {Sexo(self.sexo)}')\n",
    "    \n",
    "    def añadir_asignatura(self, asignatura):\n",
    "        for a in self._asignaturas_matriculadas:\n",
    "            if a == asignatura:\n",
    "                print('Este alumno ya esta matriculado en esta asignatura.')\n",
    "                return\n",
    "        self._asignaturas_matriculadas.append(asignatura)\n",
    "\n",
    "    def listar_asignaturas(self):\n",
    "        print('LISTADO ASIGNATURAS')\n",
    "        for a in self._asignaturas_matriculadas:\n",
    "            print('\\t', a)\n",
    "    \n",
    "    def eliminar_asignatura(self, asignatura):\n",
    "        try:\n",
    "            self._asignaturas_matriculadas.remove(asignatura)\n",
    "        except:\n",
    "            raise Exception('Este estudiante no esta matriculado de esta asignatura.')\n",
    "        \n",
    "class Profesor(Miembro_dpt):\n",
    "    def __init__(self,  nombre, DNI, direccion, sexo, departamento):\n",
    "        super().__init__(nombre, DNI, direccion, sexo, departamento)\n",
    "        self._asignaturas_impartidas = []\n",
    "\n",
    "    def añadir_asignatura(self, asignatura):\n",
    "        for a in self._asignaturas_impartidas:\n",
    "            if a == asignatura:\n",
    "                print('Este profesor ya imparte esta asignatura.')\n",
    "                return\n",
    "        self._asignaturas_impartidas.append(asignatura)\n",
    "    \n",
    "    def listar_asignaturas(self):\n",
    "        print('LISTADO ASIGNATURAS')\n",
    "        for a in self._asignaturas_impartidas:\n",
    "            print('\\t', a)\n",
    "\n",
    "    def eliminar_asignatura(self, asignatura):\n",
    "        try:\n",
    "            self._asignaturas_impartidas.remove(asignatura)\n",
    "        except:\n",
    "            raise Exception('Este profesor no imparte esta asignatura.')\n",
    "        \n",
    "    def devolver_datos(self):\n",
    "        return (f'Nombre: {self.nombre} DNI: {self.DNI} Dirección: {self.direccion} Sexo: {Sexo(self.sexo)}, Departamento: {self.departamento}')\n",
    "\n",
    "class Investigador(Miembro_dpt):\n",
    "    def __init__(self, nombre, DNI, direccion, sexo, departamento, area_investigacion):\n",
    "        super().__init__(nombre, DNI, direccion, sexo, departamento)\n",
    "        self.area_investigacion = area_investigacion    \n",
    "\n",
    "    def devolver_datos(self):\n",
    "        return (f'Nombre: {self.nombre} DNI: {self.DNI} Dirección: {self.direccion} Sexo: {Sexo(self.sexo)} Departamento: {self.departamento} Área investigación: {self.area_investigacion} ')\n",
    "\n",
    "class Profesor_asociado(Profesor):\n",
    "    def __init__(self, nombre, DNI, direccion, sexo, departamento):\n",
    "        super().__init__(nombre, DNI, direccion, sexo, departamento)\n",
    "\n",
    "class Profesor_titular(Investigador, Profesor):\n",
    "    def __init__(self, nombre, DNI, direccion, sexo, departamento, area_investigacion):\n",
    "        Investigador.__init__(self, nombre, DNI, direccion, sexo, departamento, area_investigacion)\n",
    "        Profesor.__init__(self, nombre, DNI, direccion, sexo, departamento)"
   ]
  },
  {
   "cell_type": "code",
   "execution_count": 4,
   "metadata": {},
   "outputs": [],
   "source": [
    "u = Universidad('umu')"
   ]
  },
  {
   "cell_type": "code",
   "execution_count": 52,
   "metadata": {},
   "outputs": [],
   "source": [
    "u.añadir_estudiante('Gustavo', '48851691J', 'federico',  Sexo.MASCULINO)"
   ]
  },
  {
   "cell_type": "code",
   "execution_count": 30,
   "metadata": {},
   "outputs": [],
   "source": [
    "u.añadir_estudiante('Victoria', 49170972, 'federico',  Sexo.FEMENINO)"
   ]
  },
  {
   "cell_type": "code",
   "execution_count": 85,
   "metadata": {},
   "outputs": [],
   "source": [
    "u.añadir_profesor_asociado('Gustavo', '37492065H','federico',  Sexo.MASCULINO, Departamento.DIIC)\n"
   ]
  },
  {
   "cell_type": "code",
   "execution_count": 94,
   "metadata": {},
   "outputs": [],
   "source": [
    "u.añadir_profesor_titular('Agustín', '23198457P', 'federico', Sexo.MASCULINO, Departamento.DIIC, 'Ciberseguridad')"
   ]
  },
  {
   "cell_type": "code",
   "execution_count": 13,
   "metadata": {},
   "outputs": [],
   "source": [
    "u.añadir_asignatura_impartida(488, 'Mat')"
   ]
  },
  {
   "cell_type": "code",
   "execution_count": 14,
   "metadata": {},
   "outputs": [
    {
     "name": "stdout",
     "output_type": "stream",
     "text": [
      "LISTADO ASIGNATURAS\n",
      "\t Mat\n"
     ]
    }
   ],
   "source": [
    "u.listar_asignaturas_impartidas(488)"
   ]
  },
  {
   "cell_type": "code",
   "execution_count": 37,
   "metadata": {},
   "outputs": [
    {
     "name": "stdout",
     "output_type": "stream",
     "text": [
      "El estudiante ha sido borrado.\n"
     ]
    }
   ],
   "source": [
    "u.eliminar_estudiante('48851691J')"
   ]
  },
  {
   "cell_type": "code",
   "execution_count": 38,
   "metadata": {},
   "outputs": [
    {
     "name": "stdout",
     "output_type": "stream",
     "text": [
      "LISTADO ESTUDIANTES\n"
     ]
    }
   ],
   "source": [
    "u.listar_estudiantes()"
   ]
  },
  {
   "cell_type": "code",
   "execution_count": 46,
   "metadata": {},
   "outputs": [
    {
     "name": "stdout",
     "output_type": "stream",
     "text": [
      "El departamento ha sido cambiado.\n"
     ]
    }
   ],
   "source": [
    "u.cambiar_dpt(488, Departamento.DIS)"
   ]
  },
  {
   "cell_type": "code",
   "execution_count": 95,
   "metadata": {},
   "outputs": [
    {
     "name": "stdout",
     "output_type": "stream",
     "text": [
      "LISTADO ASOCIADOS\n",
      "LISTADO TITULARES\n",
      "\t Nombre: Agustín DNI: 23198457P Dirección: federico Sexo: Sexo.MASCULINO Departamento: Departamento.DIIC Área investigación: Ciberseguridad \n"
     ]
    }
   ],
   "source": [
    "u.listar_asociados()\n",
    "u.listar_titulares()"
   ]
  },
  {
   "cell_type": "code",
   "execution_count": null,
   "metadata": {},
   "outputs": [],
   "source": []
  }
 ],
 "metadata": {
  "kernelspec": {
   "display_name": "Python 3",
   "language": "python",
   "name": "python3"
  },
  "language_info": {
   "codemirror_mode": {
    "name": "ipython",
    "version": 3
   },
   "file_extension": ".py",
   "mimetype": "text/x-python",
   "name": "python",
   "nbconvert_exporter": "python",
   "pygments_lexer": "ipython3",
   "version": "3.10.11"
  }
 },
 "nbformat": 4,
 "nbformat_minor": 2
}
