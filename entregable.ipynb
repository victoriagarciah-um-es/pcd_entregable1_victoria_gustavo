{
 "cells": [
  {
   "cell_type": "code",
   "execution_count": 1,
   "metadata": {},
   "outputs": [],
   "source": [
    "from enum import Enum"
   ]
  },
  {
   "cell_type": "code",
   "execution_count": 43,
   "metadata": {},
   "outputs": [],
   "source": [
    "class Departamento(Enum):\n",
    "    DIIC = 1\n",
    "    DITEC = 2\n",
    "    DIS = 3\n",
    "\n",
    "class Sexo(Enum):\n",
    "    MASCULINO = 1\n",
    "    FEMENINO = 2\n",
    "\n",
    "class Universidad():\n",
    "    def __init__(self, nombre):\n",
    "        self.nombre = nombre\n",
    "        self._estudiantes = []\n",
    "        self._asociados = []\n",
    "        self._titulares = []\n",
    "        self._investigadores = []\n",
    "\n",
    "    def añadir_estudiante(self, nombre, DNI, direccion, sexo):\n",
    "        for e in self._estudiantes:\n",
    "            if e.DNI == DNI:\n",
    "                print('Este alumno ya esta dado de alta.')\n",
    "                return\n",
    "        self._estudiantes.append(Estudiante(nombre, DNI, direccion, sexo))\n",
    "    \n",
    "    def añadir_profesor_asociado(self, nombre, DNI, direccion, sexo, departamento):\n",
    "        for a in self._asociados:\n",
    "            if a.DNI == DNI:\n",
    "                print('Este profesor ya esta dado de alta.')\n",
    "                return\n",
    "        self._asociados.append(Profesor_asociado(nombre, DNI, direccion, sexo, departamento))\n",
    "\n",
    "    def añadir_profesor_titular(self, nombre, DNI, direccion, sexo, departamento, area_investigacion):\n",
    "        for t in self._titulares:\n",
    "            if t.DNI == DNI:\n",
    "                print('Este profesor ya esta dado de alta.')\n",
    "                return\n",
    "        self._titulares.append(Profesor_titular(nombre, DNI, direccion, sexo, departamento, area_investigacion))    \n",
    "    \n",
    "    def eliminar_estudiante(self, DNI):\n",
    "        for i in range(len(self._estudiantes)):\n",
    "            if self._estudiantes[i].DNI == DNI:\n",
    "                self._estudiantes.pop(i)\n",
    "                print('El estudiante ha sido borrado.')\n",
    "\n",
    "    def listar_estudiantes(self):\n",
    "        print('LISTADO ESTUDIANTES')\n",
    "        for e in self._estudiantes:\n",
    "            print('\\t', e.devolver_datos())\n",
    "\n",
    "    def añadir_asignatura(self, profesor, asignatura):\n",
    "        for a in self._asociados:\n",
    "            if a.DNI == profesor:\n",
    "                a.añadir_asignatura(asignatura)\n",
    "                return\n",
    "        for t in self._titulares:\n",
    "            if t.DNI == profesor:\n",
    "                t.añadir_asignatura(asignatura)\n",
    "                return\n",
    "        print('Este DNI no corresponde a ningun profesor.')\n",
    "\n",
    "    def listar_asignaturas(self, profesor):\n",
    "        for a in self._asociados:\n",
    "            if a.DNI == profesor:\n",
    "                a.listar_asignaturas()\n",
    "                return\n",
    "        for t in self._titulares:\n",
    "            if t.DNI == profesor:\n",
    "                t.listar_asignaturas()\n",
    "                return\n",
    "        print('Este DNI no corresponde a ningun profesor.')      \n",
    "\n",
    "    def cambiar_dpt(self, DNI, dpt_nuevo):\n",
    "        for a in self._asociados:\n",
    "            if a.DNI == DNI:\n",
    "                if a.departamento == dpt_nuevo:\n",
    "                    print('Esta persona ya pertenece a este departamento.')\n",
    "                    return\n",
    "                a.cambiar_dpt(dpt_nuevo)\n",
    "                print('El departamento ha sido cambiado.')\n",
    "                return\n",
    "        for i in self._investigadores:\n",
    "            if i.DNI == DNI:\n",
    "                if i.departamento == dpt_nuevo:\n",
    "                    print('Esta persona ya pertenece a este departamento.')\n",
    "                    return\n",
    "                i.cambiar_dpt(dpt_nuevo)\n",
    "                print('El departamento ha sido cambiado.')\n",
    "                return\n",
    "        print('Esta persona no esta dada de alta en la universidad.')\n",
    "\n",
    "\n",
    "\n",
    "\n",
    "class Persona():\n",
    "    def __init__(self, nombre, DNI, direccion, sexo: Sexo):\n",
    "        self.nombre = nombre\n",
    "        self.DNI = DNI\n",
    "        self.direccion = direccion\n",
    "        self.sexo = sexo.value\n",
    "\n",
    "class Miembro_dpt(Persona):\n",
    "\n",
    "    def __init__(self, nombre, DNI, direccion, sexo, departamento: Departamento):\n",
    "        super().__init__(nombre, DNI, direccion, sexo)\n",
    "        self.departamento = departamento\n",
    "\n",
    "    def cambiar_dpt(self, dpt_nuevo):\n",
    "        self.departamento = dpt_nuevo\n",
    "\n",
    "        \n",
    "\n",
    "class Estudiante(Persona):\n",
    "    def __init__(self, nombre, DNI, direccion, sexo):\n",
    "        super().__init__(nombre, DNI, direccion, sexo)\n",
    "        self._asignaturas_matriculadas = []\n",
    "\n",
    "    def devolver_datos(self):\n",
    "        return (f'Nombre: {self.nombre} DNI: {self.DNI} Dirección: {self.direccion} Sexo: {Sexo(self.sexo)}')\n",
    "    \n",
    "class Profesor(Miembro_dpt):\n",
    "\n",
    "    def __init__(self,  nombre, DNI, direccion, sexo, departamento):\n",
    "        super().__init__(nombre, DNI, direccion, sexo, departamento)\n",
    "        self._asignaturas_impartidas = []\n",
    "\n",
    "    def añadir_asignatura(self, asignatura):\n",
    "        for a in self._asignaturas_impartidas:\n",
    "            if a == asignatura:\n",
    "                print('Este profesor ya imparte esta asignatura.')\n",
    "                return\n",
    "        self._asignaturas_impartidas.append(asignatura)\n",
    "    \n",
    "    def listar_asignaturas(self):\n",
    "        print('LISTADO ASIGNATURAS')\n",
    "        for a in self._asignaturas_impartidas:\n",
    "            print('\\t', a)\n",
    "\n",
    "\n",
    "class Profesor_asociado(Profesor):\n",
    "\n",
    "    def __init__(self, nombre, DNI, direccion, sexo, departamento):\n",
    "        super().__init__(nombre, DNI, direccion, sexo, departamento)\n",
    "\n",
    "class Investigador(Miembro_dpt):\n",
    "    def __init__(self, nombre, DNI, direccion, sexo, departamento: Departamento, area_investigacion):\n",
    "        super().__init__(nombre, DNI, direccion, sexo, departamento)\n",
    "        self.area_investigacion = area_investigacion\n",
    "\n",
    "class Profesor_titular(Investigador, Profesor):\n",
    "    \n",
    "    def __init__(self, nombre, DNI, direccion, sexo, departamento: Departamento, area_investigacion):\n",
    "        Investigador().__init__(nombre, DNI, direccion, sexo, departamento, area_investigacion)\n"
   ]
  },
  {
   "cell_type": "code",
   "execution_count": 44,
   "metadata": {},
   "outputs": [],
   "source": [
    "u = Universidad('umu')"
   ]
  },
  {
   "cell_type": "code",
   "execution_count": 48,
   "metadata": {},
   "outputs": [],
   "source": [
    "u.añadir_estudiante('Gustavo', 488, 'federico',  Sexo.MASCULINO)"
   ]
  },
  {
   "cell_type": "code",
   "execution_count": 13,
   "metadata": {},
   "outputs": [],
   "source": [
    "u.añadir_estudiante('Gustavo', 48851, 'federico',  Sexo.MASCULINO)"
   ]
  },
  {
   "cell_type": "code",
   "execution_count": 24,
   "metadata": {},
   "outputs": [],
   "source": [
    "u.añadir_profesor_asociado('Gustavo', 488,'federico',  Sexo.MASCULINO, Departamento.DIIC)"
   ]
  },
  {
   "cell_type": "code",
   "execution_count": 29,
   "metadata": {},
   "outputs": [],
   "source": [
    "u.añadir_asignatura(488, 'Mat')"
   ]
  },
  {
   "cell_type": "code",
   "execution_count": 30,
   "metadata": {},
   "outputs": [
    {
     "name": "stdout",
     "output_type": "stream",
     "text": [
      "LISTADO ASIGNATURAS\n",
      "\t Mates\n",
      "\t Mat\n"
     ]
    }
   ],
   "source": [
    "u.listar_asignaturas(488)"
   ]
  },
  {
   "cell_type": "code",
   "execution_count": 50,
   "metadata": {},
   "outputs": [
    {
     "name": "stdout",
     "output_type": "stream",
     "text": [
      "El estudiante ha sido borrado.\n"
     ]
    }
   ],
   "source": [
    "u.eliminar_estudiante(488)"
   ]
  },
  {
   "cell_type": "code",
   "execution_count": 51,
   "metadata": {},
   "outputs": [
    {
     "name": "stdout",
     "output_type": "stream",
     "text": [
      "LISTADO ESTUDIANTES\n"
     ]
    }
   ],
   "source": [
    "u.listar_estudiantes()"
   ]
  },
  {
   "cell_type": "code",
   "execution_count": null,
   "metadata": {},
   "outputs": [],
   "source": []
  }
 ],
 "metadata": {
  "kernelspec": {
   "display_name": "Python 3",
   "language": "python",
   "name": "python3"
  },
  "language_info": {
   "codemirror_mode": {
    "name": "ipython",
    "version": 3
   },
   "file_extension": ".py",
   "mimetype": "text/x-python",
   "name": "python",
   "nbconvert_exporter": "python",
   "pygments_lexer": "ipython3",
   "version": "3.10.11"
  }
 },
 "nbformat": 4,
 "nbformat_minor": 2
}
